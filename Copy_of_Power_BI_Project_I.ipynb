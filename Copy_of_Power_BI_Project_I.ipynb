{
  "nbformat": 4,
  "nbformat_minor": 0,
  "metadata": {
    "colab": {
      "provenance": [],
      "authorship_tag": "ABX9TyM5r0yzug0mSoU2/sTmeF0+",
      "include_colab_link": true
    },
    "kernelspec": {
      "name": "python3",
      "display_name": "Python 3"
    },
    "language_info": {
      "name": "python"
    }
  },
  "cells": [
    {
      "cell_type": "markdown",
      "metadata": {
        "id": "view-in-github",
        "colab_type": "text"
      },
      "source": [
        "<a href=\"https://colab.research.google.com/github/IshanSharma1132/Cat_Vs_Dog_Population_in_USA/blob/main/Copy_of_Power_BI_Project_I.ipynb\" target=\"_parent\"><img src=\"https://colab.research.google.com/assets/colab-badge.svg\" alt=\"Open In Colab\"/></a>"
      ]
    },
    {
      "cell_type": "markdown",
      "source": [
        "## **Power BI Project-I**\n",
        "\n",
        "1. Cat vs Dog Popularity in the U.S.\n",
        "\n"
      ],
      "metadata": {
        "id": "Qd1fIg9N0I1w"
      }
    },
    {
      "cell_type": "markdown",
      "source": [
        "1. **Cat vs Dog Popularity in the U.S.**\n",
        "\n",
        "  * Drive Links--->https://www.novypro.com/project/dog-vs-cat-popularity-"
      ],
      "metadata": {
        "id": "F6_OrHgr0-LC"
      }
    }
  ]
}